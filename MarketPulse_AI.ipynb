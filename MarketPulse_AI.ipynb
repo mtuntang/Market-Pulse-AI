{
  "cells": [
    {
      "cell_type": "markdown",
      "metadata": {
        "id": "view-in-github",
        "colab_type": "text"
      },
      "source": [
        "<a href=\"https://colab.research.google.com/github/mtuntang/Market-Pulse-AI/blob/main/MarketPulse_AI.ipynb\" target=\"_parent\"><img src=\"https://colab.research.google.com/assets/colab-badge.svg\" alt=\"Open In Colab\"/></a>"
      ]
    },
    {
      "cell_type": "markdown",
      "source": [
        "# Home\n",
        "<div class=\"markdown-google-sans\">\n",
        "  <h1>MarketPulse AI</h1>\n",
        "</div>\n",
        "\n",
        "<div class=\"markdown-google-sans\">\n",
        "  <h2>Explore MarketPulse AI</h2>\n",
        "\n",
        "---\n",
        "\n",
        "  <p>A Notebook application that combines stock price data and recent news analysis for selected companies. It pulls real-time financial data from Tiingo and relevant stock-specific news from Finnhub, then uses an LLM (OpenAI API) to provide concise summaries and sentiment analysis.\n",
        "  </p>\n",
        "</div>\n"
      ],
      "metadata": {
        "id": "_7k7bQN5T5vG"
      }
    },
    {
      "cell_type": "markdown",
      "source": [
        "# Step 1: Notebook Setup and Imports\n",
        "\n",
        "\n",
        "\n",
        "\n",
        "\n"
      ],
      "metadata": {
        "id": "tMgqkcm_UEZw"
      }
    },
    {
      "cell_type": "code",
      "source": [
        "# Install required libraries if not already installed\n",
        "!pip install openai\n",
        "!pip install --upgrade openai\n",
        "!pip install python-dotenv\n",
        "\n",
        "\n",
        "# Import libraries\n",
        "import requests\n",
        "import pandas as pd\n",
        "import matplotlib.pyplot as plt\n",
        "from datetime import datetime, timedelta\n",
        "from dotenv import load_dotenv\n",
        "import os\n"
      ],
      "metadata": {
        "id": "X--UwPeOXcZx",
        "outputId": "28249c6c-9f37-4ebc-9a96-c887392e73eb",
        "colab": {
          "base_uri": "https://localhost:8080/"
        }
      },
      "execution_count": 68,
      "outputs": [
        {
          "output_type": "stream",
          "name": "stdout",
          "text": [
            "Requirement already satisfied: openai in /usr/local/lib/python3.10/dist-packages (1.54.0)\n",
            "Requirement already satisfied: anyio<5,>=3.5.0 in /usr/local/lib/python3.10/dist-packages (from openai) (3.7.1)\n",
            "Requirement already satisfied: distro<2,>=1.7.0 in /usr/local/lib/python3.10/dist-packages (from openai) (1.9.0)\n",
            "Requirement already satisfied: httpx<1,>=0.23.0 in /usr/local/lib/python3.10/dist-packages (from openai) (0.27.2)\n",
            "Requirement already satisfied: jiter<1,>=0.4.0 in /usr/local/lib/python3.10/dist-packages (from openai) (0.6.1)\n",
            "Requirement already satisfied: pydantic<3,>=1.9.0 in /usr/local/lib/python3.10/dist-packages (from openai) (2.9.2)\n",
            "Requirement already satisfied: sniffio in /usr/local/lib/python3.10/dist-packages (from openai) (1.3.1)\n",
            "Requirement already satisfied: tqdm>4 in /usr/local/lib/python3.10/dist-packages (from openai) (4.66.6)\n",
            "Requirement already satisfied: typing-extensions<5,>=4.11 in /usr/local/lib/python3.10/dist-packages (from openai) (4.12.2)\n",
            "Requirement already satisfied: idna>=2.8 in /usr/local/lib/python3.10/dist-packages (from anyio<5,>=3.5.0->openai) (3.10)\n",
            "Requirement already satisfied: exceptiongroup in /usr/local/lib/python3.10/dist-packages (from anyio<5,>=3.5.0->openai) (1.2.2)\n",
            "Requirement already satisfied: certifi in /usr/local/lib/python3.10/dist-packages (from httpx<1,>=0.23.0->openai) (2024.8.30)\n",
            "Requirement already satisfied: httpcore==1.* in /usr/local/lib/python3.10/dist-packages (from httpx<1,>=0.23.0->openai) (1.0.6)\n",
            "Requirement already satisfied: h11<0.15,>=0.13 in /usr/local/lib/python3.10/dist-packages (from httpcore==1.*->httpx<1,>=0.23.0->openai) (0.14.0)\n",
            "Requirement already satisfied: annotated-types>=0.6.0 in /usr/local/lib/python3.10/dist-packages (from pydantic<3,>=1.9.0->openai) (0.7.0)\n",
            "Requirement already satisfied: pydantic-core==2.23.4 in /usr/local/lib/python3.10/dist-packages (from pydantic<3,>=1.9.0->openai) (2.23.4)\n",
            "Requirement already satisfied: openai in /usr/local/lib/python3.10/dist-packages (1.54.0)\n",
            "Requirement already satisfied: anyio<5,>=3.5.0 in /usr/local/lib/python3.10/dist-packages (from openai) (3.7.1)\n",
            "Requirement already satisfied: distro<2,>=1.7.0 in /usr/local/lib/python3.10/dist-packages (from openai) (1.9.0)\n",
            "Requirement already satisfied: httpx<1,>=0.23.0 in /usr/local/lib/python3.10/dist-packages (from openai) (0.27.2)\n",
            "Requirement already satisfied: jiter<1,>=0.4.0 in /usr/local/lib/python3.10/dist-packages (from openai) (0.6.1)\n",
            "Requirement already satisfied: pydantic<3,>=1.9.0 in /usr/local/lib/python3.10/dist-packages (from openai) (2.9.2)\n",
            "Requirement already satisfied: sniffio in /usr/local/lib/python3.10/dist-packages (from openai) (1.3.1)\n",
            "Requirement already satisfied: tqdm>4 in /usr/local/lib/python3.10/dist-packages (from openai) (4.66.6)\n",
            "Requirement already satisfied: typing-extensions<5,>=4.11 in /usr/local/lib/python3.10/dist-packages (from openai) (4.12.2)\n",
            "Requirement already satisfied: idna>=2.8 in /usr/local/lib/python3.10/dist-packages (from anyio<5,>=3.5.0->openai) (3.10)\n",
            "Requirement already satisfied: exceptiongroup in /usr/local/lib/python3.10/dist-packages (from anyio<5,>=3.5.0->openai) (1.2.2)\n",
            "Requirement already satisfied: certifi in /usr/local/lib/python3.10/dist-packages (from httpx<1,>=0.23.0->openai) (2024.8.30)\n",
            "Requirement already satisfied: httpcore==1.* in /usr/local/lib/python3.10/dist-packages (from httpx<1,>=0.23.0->openai) (1.0.6)\n",
            "Requirement already satisfied: h11<0.15,>=0.13 in /usr/local/lib/python3.10/dist-packages (from httpcore==1.*->httpx<1,>=0.23.0->openai) (0.14.0)\n",
            "Requirement already satisfied: annotated-types>=0.6.0 in /usr/local/lib/python3.10/dist-packages (from pydantic<3,>=1.9.0->openai) (0.7.0)\n",
            "Requirement already satisfied: pydantic-core==2.23.4 in /usr/local/lib/python3.10/dist-packages (from pydantic<3,>=1.9.0->openai) (2.23.4)\n",
            "Requirement already satisfied: python-dotenv in /usr/local/lib/python3.10/dist-packages (1.0.1)\n"
          ]
        }
      ]
    },
    {
      "cell_type": "markdown",
      "source": [
        "# Step 2: Configuration\n"
      ],
      "metadata": {
        "id": "6ZjvoQVMUksM"
      }
    },
    {
      "cell_type": "code",
      "source": [
        "from dotenv import load_dotenv\n",
        "import os\n",
        "\n",
        "# Load environment variables from the .env file\n",
        "load_dotenv()\n",
        "\n",
        "# Retrieve API keys from environment variables\n",
        "# API Keys - You can also replace these with your own keys\n",
        "TIINGO_API_KEY = 'placeholder_key'\n",
        "FINNHUB_API_KEY = 'placeholder_key'"
      ],
      "metadata": {
        "id": "WF__XhkfHIFU"
      },
      "execution_count": 78,
      "outputs": []
    },
    {
      "cell_type": "markdown",
      "source": [
        "# Step 3: Data Fetching Functions"
      ],
      "metadata": {
        "id": "I7gA6LxMU4Br"
      }
    },
    {
      "cell_type": "markdown",
      "source": [
        "<div class=\"markdown-google-sans\">\n",
        "\n",
        "---\n",
        "\n",
        "  </n>\n",
        "  <p>In this step, we’ll create functions to:</p>\n",
        "  <ol>\n",
        "    <li>\n",
        "      Retrieve stock data from Alpha Vantage.\n",
        "    </li>\n",
        "    <li>\n",
        "      Fetch recent news articles from Finnhub related to a specific stock symbol.\n",
        "    </li>\n",
        "  </ol>\n",
        "  \n",
        "\n",
        "</div>\n",
        "\n",
        "\n",
        "\n",
        "\n"
      ],
      "metadata": {
        "id": "uNY0cKk-HH1H"
      }
    },
    {
      "cell_type": "markdown",
      "source": [
        "\n",
        "<strong>Function to Fetch Stock Data</strong>\n",
        "<p>This function will use Tiingo to get the latest stock data for a given symbol.</p>\n",
        "\n",
        "\n",
        "\n"
      ],
      "metadata": {
        "id": "Agb-CNTeNP5w"
      }
    },
    {
      "cell_type": "code",
      "source": [
        "# Function to fetch the past year of stock data from Tiingo\n",
        "def get_stock_data_tiingo(symbol):\n",
        "    try:\n",
        "        end_date = datetime.now().strftime(\"%Y-%m-%d\")\n",
        "        start_date = (datetime.now() - timedelta(days=30)).strftime(\"%Y-%m-%d\")\n",
        "        url = f\"https://api.tiingo.com/tiingo/daily/{symbol}/prices?startDate={start_date}&endDate={end_date}&token={TIINGO_API_KEY}\"\n",
        "\n",
        "        response = requests.get(url)\n",
        "        data = response.json()\n",
        "\n",
        "        if response.status_code == 200 and data:\n",
        "            # Convert JSON response to DataFrame\n",
        "            df = pd.DataFrame(data)\n",
        "            df['date'] = pd.to_datetime(df['date'])\n",
        "            df.set_index('date', inplace=True)\n",
        "            print(\"Data fetched!\")\n",
        "            return df\n",
        "        else:\n",
        "            print(f\"Error fetching stock data for {symbol}: {data.get('message', 'Unknown error')}\")\n",
        "            return None\n",
        "    except Exception as e:\n",
        "        print(f\"Error fetching stock data for {symbol}: {data.get('message', 'Unknown error')}\")\n",
        "        return None\n",
        "\n",
        "stock_symbol = input(\"Enter the stock ticker symbol (e.g., AAPL for Apple): \").upper()\n",
        "\n",
        "# Fetch stock data from Tiingo\n",
        "stock_data = get_stock_data_tiingo(stock_symbol)"
      ],
      "metadata": {
        "id": "UZdq77qbOF6Y",
        "outputId": "b205838c-ca1c-482c-e0d3-16d394fa0b35",
        "colab": {
          "base_uri": "https://localhost:8080/"
        }
      },
      "execution_count": 79,
      "outputs": [
        {
          "output_type": "stream",
          "name": "stdout",
          "text": [
            "Enter the stock ticker symbol (e.g., AAPL for Apple): LMT\n",
            "Data fetched!\n"
          ]
        }
      ]
    },
    {
      "cell_type": "markdown",
      "source": [
        "<p>Plotting the chart:</p>"
      ],
      "metadata": {
        "id": "QZRarST2SUD3"
      }
    },
    {
      "cell_type": "code",
      "source": [
        "# Function to plot stock data\n",
        "def plot_stock_data(df, symbol):\n",
        "    plt.figure(figsize=(10, 5))\n",
        "    plt.plot(df.index, df['close'], marker='o', linestyle='-')\n",
        "    plt.title(f'{symbol} Stock Price (Past Year)')\n",
        "    plt.xlabel('Date')\n",
        "    plt.ylabel('Closing Price (USD)')\n",
        "    plt.grid(True)\n",
        "    plt.show()\n",
        "\n",
        "if stock_data is not None:\n",
        "    print(stock_data)\n",
        "    plot_stock_data(stock_data, stock_symbol)"
      ],
      "metadata": {
        "id": "5JBq4lrKSpUU",
        "outputId": "ea804561-1467-413c-b52b-814edd3e327a",
        "colab": {
          "base_uri": "https://localhost:8080/",
          "height": 1000
        }
      },
      "execution_count": 80,
      "outputs": [
        {
          "output_type": "stream",
          "name": "stdout",
          "text": [
            "                            close      high       low    open   volume  \\\n",
            "date                                                                     \n",
            "2024-10-07 00:00:00+00:00  605.54  611.5900  604.0000  607.00  1102382   \n",
            "2024-10-08 00:00:00+00:00  608.05  610.7499  603.0900  607.22   571794   \n",
            "2024-10-09 00:00:00+00:00  605.11  607.1400  603.0200  606.71   543837   \n",
            "2024-10-10 00:00:00+00:00  597.49  607.2900  596.2200  606.11   853770   \n",
            "2024-10-11 00:00:00+00:00  604.17  604.5500  600.0871  600.58   526025   \n",
            "2024-10-14 00:00:00+00:00  610.87  611.9900  603.7752  606.00   562291   \n",
            "2024-10-15 00:00:00+00:00  605.00  614.6200  603.7200  612.50   849839   \n",
            "2024-10-16 00:00:00+00:00  612.83  613.0100  602.6200  603.00   549404   \n",
            "2024-10-17 00:00:00+00:00  609.62  614.4799  607.2400  612.83   617493   \n",
            "2024-10-18 00:00:00+00:00  611.81  613.3699  608.4900  611.39   864086   \n",
            "2024-10-21 00:00:00+00:00  614.61  618.9500  611.3600  615.64  1017480   \n",
            "2024-10-22 00:00:00+00:00  576.98  608.3400  574.0001  606.90  2259193   \n",
            "2024-10-23 00:00:00+00:00  571.10  582.1800  571.0000  577.02  1402177   \n",
            "2024-10-24 00:00:00+00:00  564.21  573.9300  564.1800  570.73  1102782   \n",
            "2024-10-25 00:00:00+00:00  562.29  569.9799  561.1000  566.70  1077563   \n",
            "2024-10-28 00:00:00+00:00  555.17  563.1550  554.4950  563.00  1278667   \n",
            "2024-10-29 00:00:00+00:00  546.80  553.4000  546.4100  552.80  1041740   \n",
            "2024-10-30 00:00:00+00:00  545.94  551.2600  543.2000  546.90  1005163   \n",
            "2024-10-31 00:00:00+00:00  546.05  551.6799  542.6750  547.04  1245472   \n",
            "2024-11-01 00:00:00+00:00  545.35  549.3300  544.6200  548.00   792756   \n",
            "2024-11-04 00:00:00+00:00  543.10  548.8100  540.4100  545.70   827556   \n",
            "\n",
            "                           adjClose   adjHigh    adjLow  adjOpen  adjVolume  \\\n",
            "date                                                                          \n",
            "2024-10-07 00:00:00+00:00    605.54  611.5900  604.0000   607.00    1102382   \n",
            "2024-10-08 00:00:00+00:00    608.05  610.7499  603.0900   607.22     571794   \n",
            "2024-10-09 00:00:00+00:00    605.11  607.1400  603.0200   606.71     543837   \n",
            "2024-10-10 00:00:00+00:00    597.49  607.2900  596.2200   606.11     853770   \n",
            "2024-10-11 00:00:00+00:00    604.17  604.5500  600.0871   600.58     526025   \n",
            "2024-10-14 00:00:00+00:00    610.87  611.9900  603.7752   606.00     562291   \n",
            "2024-10-15 00:00:00+00:00    605.00  614.6200  603.7200   612.50     849839   \n",
            "2024-10-16 00:00:00+00:00    612.83  613.0100  602.6200   603.00     549404   \n",
            "2024-10-17 00:00:00+00:00    609.62  614.4799  607.2400   612.83     617493   \n",
            "2024-10-18 00:00:00+00:00    611.81  613.3699  608.4900   611.39     864086   \n",
            "2024-10-21 00:00:00+00:00    614.61  618.9500  611.3600   615.64    1017480   \n",
            "2024-10-22 00:00:00+00:00    576.98  608.3400  574.0001   606.90    2259193   \n",
            "2024-10-23 00:00:00+00:00    571.10  582.1800  571.0000   577.02    1402177   \n",
            "2024-10-24 00:00:00+00:00    564.21  573.9300  564.1800   570.73    1102782   \n",
            "2024-10-25 00:00:00+00:00    562.29  569.9799  561.1000   566.70    1077563   \n",
            "2024-10-28 00:00:00+00:00    555.17  563.1550  554.4950   563.00    1278667   \n",
            "2024-10-29 00:00:00+00:00    546.80  553.4000  546.4100   552.80    1041740   \n",
            "2024-10-30 00:00:00+00:00    545.94  551.2600  543.2000   546.90    1005163   \n",
            "2024-10-31 00:00:00+00:00    546.05  551.6799  542.6750   547.04    1245472   \n",
            "2024-11-01 00:00:00+00:00    545.35  549.3300  544.6200   548.00     792756   \n",
            "2024-11-04 00:00:00+00:00    543.10  548.8100  540.4100   545.70     827556   \n",
            "\n",
            "                           divCash  splitFactor  \n",
            "date                                             \n",
            "2024-10-07 00:00:00+00:00      0.0          1.0  \n",
            "2024-10-08 00:00:00+00:00      0.0          1.0  \n",
            "2024-10-09 00:00:00+00:00      0.0          1.0  \n",
            "2024-10-10 00:00:00+00:00      0.0          1.0  \n",
            "2024-10-11 00:00:00+00:00      0.0          1.0  \n",
            "2024-10-14 00:00:00+00:00      0.0          1.0  \n",
            "2024-10-15 00:00:00+00:00      0.0          1.0  \n",
            "2024-10-16 00:00:00+00:00      0.0          1.0  \n",
            "2024-10-17 00:00:00+00:00      0.0          1.0  \n",
            "2024-10-18 00:00:00+00:00      0.0          1.0  \n",
            "2024-10-21 00:00:00+00:00      0.0          1.0  \n",
            "2024-10-22 00:00:00+00:00      0.0          1.0  \n",
            "2024-10-23 00:00:00+00:00      0.0          1.0  \n",
            "2024-10-24 00:00:00+00:00      0.0          1.0  \n",
            "2024-10-25 00:00:00+00:00      0.0          1.0  \n",
            "2024-10-28 00:00:00+00:00      0.0          1.0  \n",
            "2024-10-29 00:00:00+00:00      0.0          1.0  \n",
            "2024-10-30 00:00:00+00:00      0.0          1.0  \n",
            "2024-10-31 00:00:00+00:00      0.0          1.0  \n",
            "2024-11-01 00:00:00+00:00      0.0          1.0  \n",
            "2024-11-04 00:00:00+00:00      0.0          1.0  \n"
          ]
        },
        {
          "output_type": "display_data",
          "data": {
            "text/plain": [
              "<Figure size 1000x500 with 1 Axes>"
            ],
            "image/png": "[encoded data removed]"
          },
          "metadata": {}
        }
      ]
    },
    {
      "cell_type": "markdown",
      "source": [
        "<strong>Function to Fetch Stock News</strong>\n",
        "<p>This function will use Finnhub to get the latest stock data for a given symbol.</p>\n"
      ],
      "metadata": {
        "id": "GiAkD00TpvLQ"
      }
    },
    {
      "cell_type": "code",
      "source": [
        "# Function to fetch recent news articles from Finnhub\n",
        "def get_news_articles_finnhub(symbol):\n",
        "    try:\n",
        "        end_date = datetime.now().strftime(\"%Y-%m-%d\")\n",
        "        start_date = (datetime.now() - timedelta(days=30)).strftime(\"%Y-%m-%d\")\n",
        "        url = f'https://finnhub.io/api/v1/company-news?symbol={symbol}&from={start_date}&to={end_date}&token={FINNHUB_API_KEY}'\n",
        "        print(url)\n",
        "        response = requests.get(url)\n",
        "        articles = response.json()\n",
        "        return articles\n",
        "    except Exception as e:\n",
        "        print(f\"Exception occurred: {e}\")\n",
        "        return []\n",
        "\n",
        "print(stock_symbol)\n",
        "news_articles = get_news_articles_finnhub(stock_symbol)\n",
        "if news_articles:\n",
        "    print(f\"\\nRecent News Articles for {stock_symbol}:\\n\")\n",
        "    for article in news_articles[:5]:  # Show only the first 5 articles\n",
        "        print(f\"Title: {article['headline']}\")\n",
        "        print(f\"Date: {article['datetime']}\")\n",
        "        print(f\"Source: {article['source']}\")\n",
        "        print(f\"URL: {article['url']}\\n\")\n",
        "else:\n",
        "    print(\"No recent news articles found.\")"
      ],
      "metadata": {
        "colab": {
          "base_uri": "https://localhost:8080/"
        },
        "id": "om9jzuSnp6MU",
        "outputId": "75bf68bd-cbe3-462a-edd1-e7afc25fb5f9"
      },
      "execution_count": 81,
      "outputs": [
        {
          "output_type": "stream",
          "name": "stdout",
          "text": [
            "LMT\n",
            "https://finnhub.io/api/v1/company-news?symbol=LMT&from=2024-10-06&to=2024-11-05&token=cskg0t1r01qn1f3vkhj0cskg0t1r01qn1f3vkhjg\n",
            "\n",
            "Recent News Articles for LMT:\n",
            "\n",
            "Title: Drones In Defense: Reshaping Modern Warfare And Its Economics\n",
            "Date: 1730801400\n",
            "Source: SeekingAlpha\n",
            "URL: https://finnhub.io/api/news?id=2c44f94a95013ee2f3b486cedb98462d59a85e7262a440593bc7dbc185c59462\n",
            "\n",
            "Title: Marshall Named First Lockheed Martin-Approved Center of Excellence for C-130 Hercules Center Wing Box Replacements\n",
            "Date: 1730795925\n",
            "Source: Finnhub\n",
            "URL: https://finnhub.io/api/news?id=e9cd5ea381ec02b0d1c1897bf040fb8b4fb48ebb55878c3e1f6efab82dae74ee\n",
            "\n",
            "Title: Lockheed Martin: Patriot missile proves its worth\n",
            "Date: 1730787382\n",
            "Source: Finnhub\n",
            "URL: https://finnhub.io/api/news?id=bd74f378512b34fad9bb67dc350b8021ef499cad11ec0fc068a93e970a2ac7e4\n",
            "\n",
            "Title: Lockheed Martin Corporation (LMT): Among the Best American Defense Stocks To Buy According to Hedge Funds\n",
            "Date: 1730768613\n",
            "Source: Yahoo\n",
            "URL: https://finnhub.io/api/news?id=5dd26efdc4a4eba7d5fdbf10ad6fe425b49cb87c8fa4a1501db82118f8d5f336\n",
            "\n",
            "Title: Lockheed Martin : Meta Collaborate on Large Language Models for National Security Applications\n",
            "Date: 1730747468\n",
            "Source: Finnhub\n",
            "URL: https://finnhub.io/api/news?id=fbc89637873c73665c72ae0eb3c250f65a688a66af0048173349b2f33159331d\n",
            "\n"
          ]
        }
      ]
    },
    {
      "cell_type": "markdown",
      "source": [
        "# Step 4: LLM Integration with OpenAI API"
      ],
      "metadata": {
        "id": "HjvhtIYTuYan"
      }
    },
    {
      "cell_type": "markdown",
      "source": [
        "<div class=\"markdown-google-sans\">\n",
        "\n",
        "---\n",
        "\n",
        "  </n>\n",
        "  <p>In this step, we will:</p>\n",
        "  <ol>\n",
        "    <li>\n",
        "      Setup the OpenAI API client.\n",
        "    </li>\n",
        "    <li>\n",
        "      Fetch the summary of our stock price and news data to get sentiment analysis from ChatGPT\n",
        "    </li>\n",
        "  </ol>\n",
        "\n",
        "</div>\n",
        "\n",
        "\n",
        "\n",
        "\n"
      ],
      "metadata": {
        "id": "wrVw8MpEukBU"
      }
    },
    {
      "cell_type": "code",
      "source": [
        "from openai import OpenAI\n",
        "\n",
        "client = OpenAI(\n",
        "  api_key='placeholder_key',\n",
        ")\n",
        "\n",
        "\n",
        "\n",
        "# Function to perform sentiment analysis and summarization using OpenAI API\n",
        "def analyze_sentiment_with_openai(article_text):\n",
        "    try:\n",
        "        chat_completion = client.chat.completions.create(\n",
        "            messages=[\n",
        "                {\n",
        "                    \"role\": \"user\",\n",
        "                    \"content\": f\"Analyze the sentiment of this article and summarize it: {article_text}\",\n",
        "                }\n",
        "            ],\n",
        "            model=\"gpt-3.5-turbo\",\n",
        "        )\n",
        "        sentiment_summary = chat_completion.choices[0].message.content.replace(\". \", \".\\n\")\n",
        "        return sentiment_summary\n",
        "    except Exception as e:\n",
        "        print(\"Error with OpenAI API:\", e)\n",
        "        return None\n",
        "\n",
        "# Initialize a list to hold the formatted summaries for each article\n",
        "sentiment_summary_list = []\n",
        "\n",
        "for article in news_articles[:5]:  # Limit to first 5 articles for brevity\n",
        "    # Convert timestamp to readable date format\n",
        "    readable_date = datetime.utcfromtimestamp(article['datetime']).strftime('%Y-%m-%d %H:%M:%S')\n",
        "\n",
        "    # Perform sentiment analysis and summarize with OpenAI\n",
        "    sentiment_summary = analyze_sentiment_with_openai(article['summary'])\n",
        "    formatted_summary = sentiment_summary.replace('. ', '.\\n') if sentiment_summary else 'No summary available'\n",
        "\n",
        "\n",
        "    # Define the parts separately\n",
        "    title = f\"Title: {article['headline']}\\n\"\n",
        "    date = f\"Date: {readable_date}\\n\"\n",
        "    source = f\"Source: {article['source']}\\n\"\n",
        "    url = f\"URL: {article['url']}\\n\"\n",
        "    sentiment_summary_text = f\"Sentiment Summary:\\n {formatted_summary}\"\n",
        "    separator = '-' * 40 + '\\n'\n",
        "\n",
        "    # Combine all parts into one string\n",
        "    article_summary = title + date + source + url + sentiment_summary_text + separator\n",
        "\n",
        "    # Append the formatted string to the list\n",
        "    sentiment_summary_list.append(article_summary)\n",
        "\n",
        "# Combine all article summaries into a single string\n",
        "news_summary = \"\\n\".join(sentiment_summary_list)\n",
        "\n",
        "# Print or use the full summary string as needed\n",
        "print(news_summary)\n",
        "\n"
      ],
      "metadata": {
        "colab": {
          "base_uri": "https://localhost:8080/"
        },
        "id": "axOqyIlDu8TE",
        "outputId": "aafe4e8b-3ca0-4f9b-a59e-b56469b1b70e"
      },
      "execution_count": 82,
      "outputs": [
        {
          "output_type": "stream",
          "name": "stdout",
          "text": [
            "Title: Drones In Defense: Reshaping Modern Warfare And Its Economics\n",
            "Date: 2024-11-05 10:10:00\n",
            "Source: SeekingAlpha\n",
            "URL: https://finnhub.io/api/news?id=2c44f94a95013ee2f3b486cedb98462d59a85e7262a440593bc7dbc185c59462\n",
            "Sentiment Summary:\n",
            " The sentiment of this article is neutral, focusing on the impact of drones on military conflicts.\n",
            "The main point is that drones have made warfare more accessible and affordable for less financially resourced forces, allowing them to compete with larger and wealthier militaries.\n",
            "This shift in power dynamics has implications for how conflicts are fought and won in the modern world.----------------------------------------\n",
            "\n",
            "Title: Marshall Named First Lockheed Martin-Approved Center of Excellence for C-130 Hercules Center Wing Box Replacements\n",
            "Date: 2024-11-05 08:38:45\n",
            "Source: Finnhub\n",
            "URL: https://finnhub.io/api/news?id=e9cd5ea381ec02b0d1c1897bf040fb8b4fb48ebb55878c3e1f6efab82dae74ee\n",
            "Sentiment Summary:\n",
            " The sentiment of this article is positive and celebratory.\n",
            "It highlights Cambridge - Marshall's achievement of being recognized by Lockheed Martin as the world's first authorized Center of Excellence for center wing box replacements on the C-130 Hercules tactical airlifter.\n",
            "The article praises the leaders of Cambridge - Marshall for this prestigious recognition.----------------------------------------\n",
            "\n",
            "Title: Lockheed Martin: Patriot missile proves its worth\n",
            "Date: 2024-11-05 06:16:22\n",
            "Source: Finnhub\n",
            "URL: https://finnhub.io/api/news?id=bd74f378512b34fad9bb67dc350b8021ef499cad11ec0fc068a93e970a2ac7e4\n",
            "Sentiment Summary:\n",
            " The sentiment of this article appears to be positive, highlighting a successful integration of Lockheed Martin's Patriot missile with Raytheon's LTAMDS radar.\n",
            "The article emphasizes the successful interception of an advanced tactical ballistic missile and validates the effectiveness of software upgrades in the system.\n",
            "Overall, the tone is one of achievement and progress in missile defense technology.----------------------------------------\n",
            "\n",
            "Title: Lockheed Martin Corporation (LMT): Among the Best American Defense Stocks To Buy According to Hedge Funds\n",
            "Date: 2024-11-05 01:03:33\n",
            "Source: Yahoo\n",
            "URL: https://finnhub.io/api/news?id=5dd26efdc4a4eba7d5fdbf10ad6fe425b49cb87c8fa4a1501db82118f8d5f336\n",
            "Sentiment Summary:\n",
            " The sentiment of this article is positive towards American defense stocks, specifically Lockheed Martin Corporation.\n",
            "The author highlights the potential for increased defense spending due to geopolitics, leading to a positive outlook for the industry.\n",
            "The article suggests that Lockheed Martin may be a strong investment choice among American defense stocks.----------------------------------------\n",
            "\n",
            "Title: Lockheed Martin : Meta Collaborate on Large Language Models for National Security Applications\n",
            "Date: 2024-11-04 19:11:08\n",
            "Source: Finnhub\n",
            "URL: https://finnhub.io/api/news?id=fbc89637873c73665c72ae0eb3c250f65a688a66af0048173349b2f33159331d\n",
            "Sentiment Summary:\n",
            " The sentiment of this article appears to be positive, highlighting a collaboration between Lockheed Martin and Meta on developing large language models for national security applications.\n",
            "The partnership seems to be seen as important and beneficial for security purposes.\n",
            "The article emphasizes the significance of this collaboration in enhancing security capabilities.----------------------------------------\n",
            "\n"
          ]
        }
      ]
    },
    {
      "cell_type": "markdown",
      "source": [
        "<p>Now combining stock price data with the sentiment analysis:</p>"
      ],
      "metadata": {
        "id": "rmTchqtU54yt"
      }
    },
    {
      "cell_type": "code",
      "source": [
        "def summarize_insights(stock_data, news_summary):\n",
        "    try:\n",
        "        chat_completion = client.chat.completions.create(\n",
        "            messages=[\n",
        "                {\n",
        "                    \"role\": \"user\",\n",
        "                    \"content\": f\"Give a short summary in bullet points for {stock_symbol}, given {stock_data} and {news_summary}\",\n",
        "                }\n",
        "            ],\n",
        "            model=\"gpt-3.5-turbo\",\n",
        "        )\n",
        "        summary_insight = chat_completion.choices[0].message.content.replace(\". \", \".\\n\")\n",
        "        return summary_insight\n",
        "    except Exception as e:\n",
        "        print(\"Error with OpenAI API:\", e)\n",
        "        return None\n",
        "\n",
        "print(summarize_insights(stock_data, news_summary))"
      ],
      "metadata": {
        "colab": {
          "base_uri": "https://localhost:8080/"
        },
        "id": "BQVdgCE76CpF",
        "outputId": "88eb99fe-bb44-47de-a10c-04331128165f"
      },
      "execution_count": 84,
      "outputs": [
        {
          "output_type": "stream",
          "name": "stdout",
          "text": [
            "- Lockheed Martin's stock prices fluctuated between $545.35 and $612.83 in late October and early November 2024\n",
            "- The company was recognized as the world's first authorized center of excellence for C-130 Hercules center wing box replacements\n",
            "- Positive news surrounding Lockheed Martin's successful integration of Patriot missile with Raytheon's LTAMDS radar \n",
            "- Lockheed Martin highlighted as one of the best American defense stocks to buy, with a positive outlook due to potential increased defense spending\n",
            "- Collaboration between Lockheed Martin and Meta to develop large language models for national security applications\n"
          ]
        }
      ]
    }
  ],
  "metadata": {
    "colab": {
      "toc_visible": true,
      "provenance": [],
      "include_colab_link": true
    },
    "kernelspec": {
      "display_name": "Python 3",
      "name": "python3"
    }
  },
  "nbformat": 4,
  "nbformat_minor": 0
}