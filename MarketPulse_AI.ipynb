{
  "cells": [
    {
      "cell_type": "markdown",
      "metadata": {
        "id": "view-in-github",
        "colab_type": "text"
      },
      "source": [
        "<a href=\"https://colab.research.google.com/github/mtuntang/Market-Pulse-AI/blob/main/MarketPulse_AI.ipynb\" target=\"_parent\"><img src=\"https://colab.research.google.com/assets/colab-badge.svg\" alt=\"Open In Colab\"/></a>"
      ]
    },
    {
      "cell_type": "markdown",
      "source": [
        "# Home\n",
        "<div class=\"markdown-google-sans\">\n",
        "  <h1>MarketPulse AI</h1>\n",
        "</div>\n",
        "\n",
        "<div class=\"markdown-google-sans\">\n",
        "  <h2>Explore MarketPulse AI</h2>\n",
        "\n",
        "---\n",
        "\n",
        "  <p>A Notebook application that combines stock price data and recent news analysis for selected companies. It pulls real-time financial data from Tiingo and relevant stock-specific news from Finnhub, then uses an LLM (OpenAI API) to provide concise summaries and sentiment analysis.\n",
        "  </p>\n",
        "</div>\n"
      ],
      "metadata": {
        "id": "_7k7bQN5T5vG"
      }
    },
    {
      "cell_type": "markdown",
      "source": [
        "# Step 1: Notebook Setup and Imports\n",
        "\n",
        "\n",
        "\n",
        "\n",
        "\n"
      ],
      "metadata": {
        "id": "tMgqkcm_UEZw"
      }
    },
    {
      "cell_type": "code",
      "source": [
        "# Install required libraries if not already installed\n",
        "!pip install openai\n",
        "\n",
        "# Import libraries\n",
        "import requests\n",
        "import pandas as pd\n",
        "import matplotlib.pyplot as plt\n",
        "from datetime import datetime, timedelta\n",
        "import os\n"
      ],
      "metadata": {
        "id": "X--UwPeOXcZx",
        "outputId": "8f9598c5-1241-4d9f-b177-cfd76020b1ff",
        "colab": {
          "base_uri": "https://localhost:8080/"
        }
      },
      "execution_count": null,
      "outputs": [
        {
          "output_type": "stream",
          "name": "stdout",
          "text": [
            "Requirement already satisfied: openai in /usr/local/lib/python3.10/dist-packages (1.52.2)\n",
            "Requirement already satisfied: anyio<5,>=3.5.0 in /usr/local/lib/python3.10/dist-packages (from openai) (3.7.1)\n",
            "Requirement already satisfied: distro<2,>=1.7.0 in /usr/local/lib/python3.10/dist-packages (from openai) (1.9.0)\n",
            "Requirement already satisfied: httpx<1,>=0.23.0 in /usr/local/lib/python3.10/dist-packages (from openai) (0.27.2)\n",
            "Requirement already satisfied: jiter<1,>=0.4.0 in /usr/local/lib/python3.10/dist-packages (from openai) (0.6.1)\n",
            "Requirement already satisfied: pydantic<3,>=1.9.0 in /usr/local/lib/python3.10/dist-packages (from openai) (2.9.2)\n",
            "Requirement already satisfied: sniffio in /usr/local/lib/python3.10/dist-packages (from openai) (1.3.1)\n",
            "Requirement already satisfied: tqdm>4 in /usr/local/lib/python3.10/dist-packages (from openai) (4.66.6)\n",
            "Requirement already satisfied: typing-extensions<5,>=4.11 in /usr/local/lib/python3.10/dist-packages (from openai) (4.12.2)\n",
            "Requirement already satisfied: idna>=2.8 in /usr/local/lib/python3.10/dist-packages (from anyio<5,>=3.5.0->openai) (3.10)\n",
            "Requirement already satisfied: exceptiongroup in /usr/local/lib/python3.10/dist-packages (from anyio<5,>=3.5.0->openai) (1.2.2)\n",
            "Requirement already satisfied: certifi in /usr/local/lib/python3.10/dist-packages (from httpx<1,>=0.23.0->openai) (2024.8.30)\n",
            "Requirement already satisfied: httpcore==1.* in /usr/local/lib/python3.10/dist-packages (from httpx<1,>=0.23.0->openai) (1.0.6)\n",
            "Requirement already satisfied: h11<0.15,>=0.13 in /usr/local/lib/python3.10/dist-packages (from httpcore==1.*->httpx<1,>=0.23.0->openai) (0.14.0)\n",
            "Requirement already satisfied: annotated-types>=0.6.0 in /usr/local/lib/python3.10/dist-packages (from pydantic<3,>=1.9.0->openai) (0.7.0)\n",
            "Requirement already satisfied: pydantic-core==2.23.4 in /usr/local/lib/python3.10/dist-packages (from pydantic<3,>=1.9.0->openai) (2.23.4)\n"
          ]
        }
      ]
    },
    {
      "cell_type": "markdown",
      "source": [
        "# Step 2: Configuration\n"
      ],
      "metadata": {
        "id": "6ZjvoQVMUksM"
      }
    },
    {
      "cell_type": "code",
      "source": [
        "# Retrieve API keys from environment variables\n",
        "# API Keys - You can also replace these with your own keys\n",
        "TIINGO_API_KEY = 'placeholder_key'\n",
        "FINNHUB_API_KEY = 'placeholder_key'"
      ],
      "metadata": {
        "id": "WF__XhkfHIFU"
      },
      "execution_count": null,
      "outputs": []
    },
    {
      "cell_type": "markdown",
      "source": [
        "# Step 3: Data Fetching Functions"
      ],
      "metadata": {
        "id": "I7gA6LxMU4Br"
      }
    },
    {
      "cell_type": "markdown",
      "source": [
        "<div class=\"markdown-google-sans\">\n",
        "\n",
        "---\n",
        "\n",
        "  </n>\n",
        "  <p>In this step, we’ll create functions to:</p>\n",
        "  <ol>\n",
        "    <li>\n",
        "      Retrieve stock data from Tiingo.\n",
        "    </li>\n",
        "    <li>\n",
        "      Fetch recent news articles from Finnhub related to a specific stock symbol.\n",
        "    </li>\n",
        "  </ol>\n",
        "  \n",
        "\n",
        "</div>\n",
        "\n",
        "\n",
        "\n",
        "\n"
      ],
      "metadata": {
        "id": "uNY0cKk-HH1H"
      }
    },
    {
      "cell_type": "markdown",
      "source": [
        "\n",
        "<strong>Function to Fetch Stock Data</strong>\n",
        "<p>This function will use Tiingo to get the latest stock data for a given symbol.</p>\n",
        "\n",
        "\n",
        "\n"
      ],
      "metadata": {
        "id": "Agb-CNTeNP5w"
      }
    },
    {
      "cell_type": "code",
      "source": [
        "# Function to fetch the past year of stock data from Tiingo\n",
        "def get_stock_data_tiingo(symbol):\n",
        "    try:\n",
        "        end_date = datetime.now().strftime(\"%Y-%m-%d\")\n",
        "        start_date = (datetime.now() - timedelta(days=365)).strftime(\"%Y-%m-%d\")\n",
        "        url = f\"https://api.tiingo.com/tiingo/daily/{symbol}/prices?startDate={start_date}&endDate={end_date}&token={TIINGO_API_KEY}\"\n",
        "\n",
        "        response = requests.get(url)\n",
        "        data = response.json()\n",
        "\n",
        "        if response.status_code == 200 and data:\n",
        "            # Convert JSON response to DataFrame\n",
        "            df = pd.DataFrame(data)\n",
        "            df['date'] = pd.to_datetime(df['date'])\n",
        "            df.set_index('date', inplace=True)\n",
        "            print(\"Data fetched!\")\n",
        "\n",
        "            # Calculate 20-day and 50-day moving averages\n",
        "            df['avg_20_day'] = df['close'].rolling(window=20).mean()\n",
        "            df['avg_50_day'] = df['close'].rolling(window=50).mean()\n",
        "\n",
        "            # Add columns for closing price and standard deviation of closing prices\n",
        "            df['closing_price'] = df['close']\n",
        "            df['std_dev'] = df['close'].std()\n",
        "\n",
        "            # Forward fill and backward fill NaN values in moving averages\n",
        "            df[['avg_20_day', 'avg_50_day']] = df[['avg_20_day', 'avg_50_day']].ffill().bfill()\n",
        "\n",
        "            # Select only the columns we need\n",
        "            df = df[['closing_price', 'std_dev', 'avg_20_day', 'avg_50_day']]\n",
        "            df.reset_index(inplace=True)  # Move date back to a column if you want\n",
        "\n",
        "            return df\n",
        "        else:\n",
        "            print(f\"Error fetching stock data for {symbol}: {data.get('message', 'Unknown error')}\")\n",
        "            return None\n",
        "    except Exception as e:\n",
        "        print(f\"Error fetching stock data for {symbol}: {str(e)}\")\n",
        "        return None\n",
        "\n",
        "stock_symbol = input(\"Enter the stock ticker symbol (e.g., AAPL for Apple): \").upper()\n",
        "\n",
        "# Fetch stock data from Tiingo\n",
        "stock_data = get_stock_data_tiingo(stock_symbol)"
      ],
      "metadata": {
        "id": "UZdq77qbOF6Y",
        "outputId": "876a93bf-ddf8-4c3c-80e5-117a6c7231af",
        "colab": {
          "base_uri": "https://localhost:8080/"
        }
      },
      "execution_count": null,
      "outputs": [
        {
          "output_type": "stream",
          "name": "stdout",
          "text": [
            "Enter the stock ticker symbol (e.g., AAPL for Apple): LMT\n",
            "Data fetched!\n"
          ]
        }
      ]
    },
    {
      "cell_type": "markdown",
      "source": [
        "<p>Plotting the chart:</p>"
      ],
      "metadata": {
        "id": "QZRarST2SUD3"
      }
    },
    {
      "cell_type": "code",
      "source": [
        "# Function to plot stock data with moving averages\n",
        "def plot_stock_data(df, symbol):\n",
        "    plt.figure(figsize=(12, 6))\n",
        "\n",
        "    # Plot the daily closing prices\n",
        "    plt.plot(df['date'], df['closing_price'], marker='o', linestyle='-', label='Daily Close Price')\n",
        "\n",
        "    # Plot the 20-day and 50-day moving averages\n",
        "    plt.plot(df['date'], df['avg_20_day'], linestyle='-', label='20-Day Moving Average', color='orange')\n",
        "    plt.plot(df['date'], df['avg_50_day'], linestyle='-', label='50-Day Moving Average', color='green')\n",
        "\n",
        "    # Plot formatting\n",
        "    plt.title(f'{symbol} Stock Price with 20-Day and 50-Day Moving Averages (Past Year)')\n",
        "    plt.xlabel('date')\n",
        "    plt.ylabel('Price (USD)')\n",
        "    plt.legend()\n",
        "    plt.grid(True)\n",
        "    plt.show()\n",
        "\n",
        "if stock_data is not None:\n",
        "    print(\"Stock data: \")\n",
        "    print(stock_data)\n",
        "    plot_stock_data(stock_data, stock_symbol)\n"
      ],
      "metadata": {
        "id": "5JBq4lrKSpUU",
        "outputId": "3951f7d3-6364-4e00-f4d0-02fdfc1cf7b9",
        "colab": {
          "base_uri": "https://localhost:8080/",
          "height": 1000
        }
      },
      "execution_count": null,
      "outputs": [
        {
          "output_type": "stream",
          "name": "stdout",
          "text": [
            "Stock data: \n",
            "                         date  closing_price    std_dev  avg_20_day  \\\n",
            "0   2023-11-07 00:00:00+00:00         450.15  56.339665    446.7025   \n",
            "1   2023-11-08 00:00:00+00:00         444.66  56.339665    446.7025   \n",
            "2   2023-11-09 00:00:00+00:00         442.46  56.339665    446.7025   \n",
            "3   2023-11-10 00:00:00+00:00         444.87  56.339665    446.7025   \n",
            "4   2023-11-13 00:00:00+00:00         445.03  56.339665    446.7025   \n",
            "..                        ...            ...        ...         ...   \n",
            "246 2024-10-30 00:00:00+00:00         545.94  56.339665    590.9270   \n",
            "247 2024-10-31 00:00:00+00:00         546.05  56.339665    587.9385   \n",
            "248 2024-11-01 00:00:00+00:00         545.35  56.339665    584.9495   \n",
            "249 2024-11-04 00:00:00+00:00         543.10  56.339665    581.8275   \n",
            "250 2024-11-05 00:00:00+00:00         546.75  56.339665    578.7625   \n",
            "\n",
            "     avg_50_day  \n",
            "0      450.1002  \n",
            "1      450.1002  \n",
            "2      450.1002  \n",
            "3      450.1002  \n",
            "4      450.1002  \n",
            "..          ...  \n",
            "246    579.3176  \n",
            "247    579.1634  \n",
            "248    578.9298  \n",
            "249    578.6916  \n",
            "250    578.4646  \n",
            "\n",
            "[251 rows x 5 columns]\n"
          ]
        },
        {
          "output_type": "display_data",
          "data": {
            "text/plain": [
              "<Figure size 1200x600 with 1 Axes>"
            ],
            "image/png": "[encoded data removed]"
          },
          "metadata": {}
        }
      ]
    },
    {
      "cell_type": "markdown",
      "source": [
        "<strong>Function to Fetch Stock News</strong>\n",
        "<p>This function will use Finnhub to get the latest stock data for a given symbol.</p>\n"
      ],
      "metadata": {
        "id": "GiAkD00TpvLQ"
      }
    },
    {
      "cell_type": "code",
      "source": [
        "# Function to fetch recent news articles from Finnhub\n",
        "def get_news_articles_finnhub(symbol):\n",
        "    try:\n",
        "        end_date = datetime.now().strftime(\"%Y-%m-%d\")\n",
        "        start_date = (datetime.now() - timedelta(days=30)).strftime(\"%Y-%m-%d\")\n",
        "        url = f'https://finnhub.io/api/v1/company-news?symbol={symbol}&from={start_date}&to={end_date}&token={FINNHUB_API_KEY}'\n",
        "        print(url)\n",
        "        response = requests.get(url)\n",
        "        articles = response.json()\n",
        "        return articles\n",
        "    except Exception as e:\n",
        "        print(f\"Exception occurred: {e}\")\n",
        "        return []\n",
        "\n",
        "print(stock_symbol)\n",
        "news_articles = get_news_articles_finnhub(stock_symbol)\n",
        "if news_articles:\n",
        "    print(f\"\\nRecent News Articles for {stock_symbol}:\\n\")\n",
        "    for article in news_articles[:10]:  # Show only the first 10 articles\n",
        "        print(f\"Title: {article['headline']}\")\n",
        "        print(f\"Date: {article['datetime']}\")\n",
        "        print(f\"Source: {article['source']}\")\n",
        "        print(f\"URL: {article['url']}\\n\")\n",
        "else:\n",
        "    print(\"No recent news articles found.\")"
      ],
      "metadata": {
        "colab": {
          "base_uri": "https://localhost:8080/"
        },
        "id": "om9jzuSnp6MU",
        "outputId": "e3b4c86c-7bde-40ba-ca1e-3ce2ec03e199"
      },
      "execution_count": null,
      "outputs": [
        {
          "output_type": "stream",
          "name": "stdout",
          "text": [
            "LMT\n",
            "https://finnhub.io/api/v1/company-news?symbol=LMT&from=2024-10-07&to=2024-11-06&token=cskg0t1r01qn1f3vkhj0cskg0t1r01qn1f3vkhjg\n",
            "\n",
            "Recent News Articles for LMT:\n",
            "\n",
            "Title: VIS: Cyclical Industrials Show Momentum, Eyeing The Post-Election Landscape\n",
            "Date: 1730841319\n",
            "Source: SeekingAlpha\n",
            "URL: https://finnhub.io/api/news?id=e856fb3a19a9f642b41e1affe5fd450c2479926693074804cf800ee3fa1723fa\n",
            "\n",
            "Title: Lockheed Martin : The True GOATS of Wildfire Mitigation\n",
            "Date: 1730808687\n",
            "Source: Finnhub\n",
            "URL: https://finnhub.io/api/news?id=9a90a022570c83a109a01fda27b4f8aec1bca78204a39d21d08ca7ccca732278\n",
            "\n",
            "Title: Ariel Investments Focus Fund Q3 2024 Commentary\n",
            "Date: 1730802600\n",
            "Source: SeekingAlpha\n",
            "URL: https://finnhub.io/api/news?id=3131d81373ebbea046a0db4591dfd37499d383502c94c49bf48aa12492e18915\n",
            "\n",
            "Title: Drones In Defense: Reshaping Modern Warfare And Its Economics\n",
            "Date: 1730801400\n",
            "Source: SeekingAlpha\n",
            "URL: https://finnhub.io/api/news?id=2c44f94a95013ee2f3b486cedb98462d59a85e7262a440593bc7dbc185c59462\n",
            "\n",
            "Title: Marshall Named First Lockheed Martin-Approved Center of Excellence for C-130 Hercules Center Wing Box Replacements\n",
            "Date: 1730795925\n",
            "Source: Finnhub\n",
            "URL: https://finnhub.io/api/news?id=e9cd5ea381ec02b0d1c1897bf040fb8b4fb48ebb55878c3e1f6efab82dae74ee\n",
            "\n",
            "Title: Lockheed Martin: Patriot missile proves its worth\n",
            "Date: 1730787382\n",
            "Source: Finnhub\n",
            "URL: https://finnhub.io/api/news?id=bd74f378512b34fad9bb67dc350b8021ef499cad11ec0fc068a93e970a2ac7e4\n",
            "\n",
            "Title: Lockheed Martin Corporation (LMT): Among the Best American Defense Stocks To Buy According to Hedge Funds\n",
            "Date: 1730768613\n",
            "Source: Yahoo\n",
            "URL: https://finnhub.io/api/news?id=5dd26efdc4a4eba7d5fdbf10ad6fe425b49cb87c8fa4a1501db82118f8d5f336\n",
            "\n",
            "Title: Lockheed Martin : Meta Collaborate on Large Language Models for National Security Applications\n",
            "Date: 1730747468\n",
            "Source: Finnhub\n",
            "URL: https://finnhub.io/api/news?id=fbc89637873c73665c72ae0eb3c250f65a688a66af0048173349b2f33159331d\n",
            "\n",
            "Title: Equity funds, Trump vs. Harris trade, Southwest: Top Stories\n",
            "Date: 1730744162\n",
            "Source: Yahoo\n",
            "URL: https://finnhub.io/api/news?id=64de8f4a1e048df88e6355f66f05ef4b1d978df622e0832e292a8ccf01530eff\n",
            "\n",
            "Title: Lockheed Martin : PAC-3 Engages Advanced Target in Flight Test Supporting U.S. Army Modernization Strategy\n",
            "Date: 1730731384\n",
            "Source: Finnhub\n",
            "URL: https://finnhub.io/api/news?id=5d813612743d5179be0e3c3fe1f3e9926d0f77745d401a47ad0a44d563ec8559\n",
            "\n"
          ]
        }
      ]
    },
    {
      "cell_type": "markdown",
      "source": [
        "# Step 4: LLM Integration with OpenAI API"
      ],
      "metadata": {
        "id": "HjvhtIYTuYan"
      }
    },
    {
      "cell_type": "markdown",
      "source": [
        "<div class=\"markdown-google-sans\">\n",
        "\n",
        "---\n",
        "\n",
        "  </n>\n",
        "  <p>In this step, we will:</p>\n",
        "  <ol>\n",
        "    <li>\n",
        "      Setup the OpenAI API client.\n",
        "    </li>\n",
        "    <li>\n",
        "      Fetch the summary of our stock price and news data to get sentiment analysis from ChatGPT\n",
        "    </li>\n",
        "  </ol>\n",
        "\n",
        "</div>\n",
        "\n",
        "\n",
        "\n",
        "\n"
      ],
      "metadata": {
        "id": "wrVw8MpEukBU"
      }
    },
    {
      "cell_type": "code",
      "source": [
        "from openai import OpenAI\n",
        "\n",
        "client = OpenAI(\n",
        "  api_key='placeholder_key',\n",
        ")\n",
        "\n",
        "# Function to perform sentiment analysis and summarization using OpenAI API\n",
        "def analyze_sentiment_with_openai(article_text):\n",
        "    try:\n",
        "        chat_completion = client.chat.completions.create(\n",
        "            messages=[\n",
        "                {\n",
        "                    \"role\": \"user\",\n",
        "                    \"content\": f\"Analyze the sentiment of this article and summarize it: {article_text}\",\n",
        "                }\n",
        "            ],\n",
        "            model=\"gpt-3.5-turbo\",\n",
        "        )\n",
        "        sentiment_summary = chat_completion.choices[0].message.content.replace(\". \", \".\\n\")\n",
        "        return sentiment_summary\n",
        "    except Exception as e:\n",
        "        print(\"Error with OpenAI API:\", e)\n",
        "        return None\n",
        "\n",
        "sentiment_summary_list = []\n",
        "\n",
        "for article in news_articles[:10]:\n",
        "    # Convert timestamp to readable date format\n",
        "    readable_date = datetime.utcfromtimestamp(article['datetime']).strftime('%Y-%m-%d %H:%M:%S')\n",
        "\n",
        "    # Perform sentiment analysis and summarize with OpenAI\n",
        "    sentiment_summary = analyze_sentiment_with_openai(article['summary'])\n",
        "    formatted_summary = sentiment_summary.replace('. ', '.\\n') if sentiment_summary else 'No summary available'\n",
        "\n",
        "    # Create aggregated summary form:\n",
        "    title = f\"Title: {article['headline']}\\n\"\n",
        "    date = f\"Date: {readable_date}\\n\"\n",
        "    source = f\"Source: {article['source']}\\n\"\n",
        "    url = f\"URL: {article['url']}\\n\"\n",
        "    sentiment_summary_text = f\"Sentiment Summary:\\n {formatted_summary}\\n\"\n",
        "    separator = '-' * 120 + '\\n'\n",
        "    article_summary = title + date + source + url + sentiment_summary_text + separator\n",
        "    sentiment_summary_list.append(article_summary)\n",
        "\n",
        "# Combine all article summaries into a single string\n",
        "news_summary = \"\\n\".join(sentiment_summary_list)\n",
        "print(news_summary)\n",
        "\n"
      ],
      "metadata": {
        "colab": {
          "base_uri": "https://localhost:8080/"
        },
        "id": "axOqyIlDu8TE",
        "outputId": "38229500-69ba-45ae-e4b1-03fa3b89f90a"
      },
      "execution_count": null,
      "outputs": [
        {
          "output_type": "stream",
          "name": "stdout",
          "text": [
            "Title: VIS: Cyclical Industrials Show Momentum, Eyeing The Post-Election Landscape\n",
            "Date: 2024-11-05 21:15:19\n",
            "Source: SeekingAlpha\n",
            "URL: https://finnhub.io/api/news?id=e856fb3a19a9f642b41e1affe5fd450c2479926693074804cf800ee3fa1723fa\n",
            "Sentiment Summary:\n",
            " The sentiment of this article is positive and bullish towards the Vanguard Industrials ETF (VIS), suggesting that it is a top buy recommendation for investors.\n",
            "The article highlights the low cost, fair valuation, and strong diversification of the ETF as key factors for consideration.\n",
            "Overall, the tone of the article is optimistic about the potential for success and growth of VIS for investors.\n",
            "------------------------------------------------------------------------------------------------------------------------\n",
            "\n",
            "Title: Lockheed Martin : The True GOATS of Wildfire Mitigation\n",
            "Date: 2024-11-05 12:11:27\n",
            "Source: Finnhub\n",
            "URL: https://finnhub.io/api/news?id=9a90a022570c83a109a01fda27b4f8aec1bca78204a39d21d08ca7ccca732278\n",
            "Sentiment Summary:\n",
            " The sentiment of this article is positive and highlights the commitment of Lockheed Martin to wildfire mitigation efforts.\n",
            "It emphasizes the company's dedication to innovation and technology in addressing wildfire risks.\n",
            "Overall, the article praises Lockheed Martin as a leader in the field of wildfire mitigation.\n",
            "------------------------------------------------------------------------------------------------------------------------\n",
            "\n",
            "Title: Ariel Investments Focus Fund Q3 2024 Commentary\n",
            "Date: 2024-11-05 10:30:00\n",
            "Source: SeekingAlpha\n",
            "URL: https://finnhub.io/api/news?id=3131d81373ebbea046a0db4591dfd37499d383502c94c49bf48aa12492e18915\n",
            "Sentiment Summary:\n",
            " Overall, the sentiment of this article is optimistic.\n",
            "The article highlights the positive performance of major U.S.\n",
            "indices in the third quarter and notes the resilience of the economy.\n",
            "Forecasters are also anticipating a soft landing, suggesting that they predict a smooth economic transition in the near future.\n",
            "------------------------------------------------------------------------------------------------------------------------\n",
            "\n",
            "Title: Drones In Defense: Reshaping Modern Warfare And Its Economics\n",
            "Date: 2024-11-05 10:10:00\n",
            "Source: SeekingAlpha\n",
            "URL: https://finnhub.io/api/news?id=2c44f94a95013ee2f3b486cedb98462d59a85e7262a440593bc7dbc185c59462\n",
            "Sentiment Summary:\n",
            " Sentiment: Neutral \n",
            "\n",
            "Summary: The article discusses how the affordability and versatility of drones have leveled the playing field in conflicts, allowing smaller, less financially resourced forces to effectively compete with larger, wealthier militaries.\n",
            "------------------------------------------------------------------------------------------------------------------------\n",
            "\n",
            "Title: Marshall Named First Lockheed Martin-Approved Center of Excellence for C-130 Hercules Center Wing Box Replacements\n",
            "Date: 2024-11-05 08:38:45\n",
            "Source: Finnhub\n",
            "URL: https://finnhub.io/api/news?id=e9cd5ea381ec02b0d1c1897bf040fb8b4fb48ebb55878c3e1f6efab82dae74ee\n",
            "Sentiment Summary:\n",
            " The sentiment of this article is positive.\n",
            "It highlights the recognition given to Cambridge - Marshall by Lockheed Martin as the world's first authorized Center of Excellence for center wing box replacements on the C-130 Hercules tactical airlifter.\n",
            "The article praises the leadership and expertise of the center in achieving this prestigious designation.\n",
            "Overall, the tone of the article is celebratory and proud of the accomplishments of Cambridge - Marshall.\n",
            "------------------------------------------------------------------------------------------------------------------------\n",
            "\n",
            "Title: Lockheed Martin: Patriot missile proves its worth\n",
            "Date: 2024-11-05 06:16:22\n",
            "Source: Finnhub\n",
            "URL: https://finnhub.io/api/news?id=bd74f378512b34fad9bb67dc350b8021ef499cad11ec0fc068a93e970a2ac7e4\n",
            "Sentiment Summary:\n",
            " The sentiment of the article is generally positive, as it highlights a successful integration between Lockheed Martin's Patriot missile and Raytheon's LTAMDS radar.\n",
            "The article emphasizes the successful interception of an advanced tactical ballistic missile, which validates the software upgrades made to the system.\n",
            "Overall, the article showcases the effectiveness of the integrated system in providing advanced defense capabilities.\n",
            "------------------------------------------------------------------------------------------------------------------------\n",
            "\n",
            "Title: Lockheed Martin Corporation (LMT): Among the Best American Defense Stocks To Buy According to Hedge Funds\n",
            "Date: 2024-11-05 01:03:33\n",
            "Source: Yahoo\n",
            "URL: https://finnhub.io/api/news?id=5dd26efdc4a4eba7d5fdbf10ad6fe425b49cb87c8fa4a1501db82118f8d5f336\n",
            "Sentiment Summary:\n",
            " Sentiment: Positive\n",
            "\n",
            "Summary: The article discusses the top American defense stocks to buy according to hedge funds and focuses on Lockheed Martin Corporation (NYSE:LMT).\n",
            "It mentions that geopolitical factors are expected to drive increased defense spending in the future, making defense stocks a solid investment.\n",
            "------------------------------------------------------------------------------------------------------------------------\n",
            "\n",
            "Title: Lockheed Martin : Meta Collaborate on Large Language Models for National Security Applications\n",
            "Date: 2024-11-04 19:11:08\n",
            "Source: Finnhub\n",
            "URL: https://finnhub.io/api/news?id=fbc89637873c73665c72ae0eb3c250f65a688a66af0048173349b2f33159331d\n",
            "Sentiment Summary:\n",
            " The sentiment of this article appears to be neutral or positive.\n",
            "\n",
            "\n",
            "The article discusses Lockheed Martin and Meta collaborating on large language models for national security applications.\n",
            "The partnership between these two technology companies is likely seen as a positive development for enhancing national security efforts.\n",
            "The article probably highlights the potential benefits of utilizing advanced language models in this context.\n",
            "\n",
            "\n",
            "In summary, the article discusses a collaboration between Lockheed Martin and Meta to develop large language models for national security applications, which is likely to have positive implications for enhancing security measures.\n",
            "------------------------------------------------------------------------------------------------------------------------\n",
            "\n",
            "Title: Equity funds, Trump vs. Harris trade, Southwest: Top Stories\n",
            "Date: 2024-11-04 18:16:02\n",
            "Source: Yahoo\n",
            "URL: https://finnhub.io/api/news?id=64de8f4a1e048df88e6355f66f05ef4b1d978df622e0832e292a8ccf01530eff\n",
            "Sentiment Summary:\n",
            " The sentiment of this article is slightly negative as it highlights the largest weekly outflows in US equity funds in over a month, indicating market volatility and uncertainty.\n",
            "The mention of the Federal Reserve's upcoming interest rate decision and the focus on stocks connected to the upcoming election further adds to the overall sense of caution.\n",
            "However, the appointment of Rakesh Gangwal as Southwest Airlines' new board chair is noted as a positive development.\n",
            "The article also encourages readers to seek expert insights and analysis for more information on the current market conditions.\n",
            "------------------------------------------------------------------------------------------------------------------------\n",
            "\n",
            "Title: Lockheed Martin : PAC-3 Engages Advanced Target in Flight Test Supporting U.S. Army Modernization Strategy\n",
            "Date: 2024-11-04 14:43:04\n",
            "Source: Finnhub\n",
            "URL: https://finnhub.io/api/news?id=5d813612743d5179be0e3c3fe1f3e9926d0f77745d401a47ad0a44d563ec8559\n",
            "Sentiment Summary:\n",
            " The sentiment of this article appears to be positive and focused on technological advancements in missile defense systems.\n",
            "The successful integration of Lockheed Martin's Patriot Advanced Capability - 3 missile with Raytheon's Lower Tier Air and Missile Defense Sensor radar is highlighted as a significant achievement at White Sands Missile Range.\n",
            "This collaboration demonstrates progress in improving air and missile defense capabilities.\n",
            "------------------------------------------------------------------------------------------------------------------------\n",
            "\n"
          ]
        }
      ]
    },
    {
      "cell_type": "markdown",
      "source": [
        "<p>Now combining stock price data with the sentiment analysis:</p>"
      ],
      "metadata": {
        "id": "rmTchqtU54yt"
      }
    },
    {
      "cell_type": "code",
      "source": [
        "def summarize_insights(stock_data, news_summary):\n",
        "    try:\n",
        "        chat_completion = client.chat.completions.create(\n",
        "            messages=[\n",
        "                {\n",
        "                    \"role\": \"user\",\n",
        "                    \"content\": f\"Generate a concise summary in bullet points for {stock_symbol}, incorporating insights from {stock_data} and {monthly_summary} (such as price trends, volume, and recent changes) and key takeaways from {news_summary} (highlighting any major announcements, market reactions, or industry trends). Focus on significant movements, potential reasons for those changes, and any notable impacts on the company or its sector.\",\n",
        "                }\n",
        "            ],\n",
        "            model=\"gpt-3.5-turbo\",\n",
        "        )\n",
        "        summary_insight = chat_completion.choices[0].message.content.replace(\". \", \".\\n\")\n",
        "        return summary_insight\n",
        "    except Exception as e:\n",
        "        print(\"Error with OpenAI API:\", e)\n",
        "        return None\n",
        "\n",
        "print(summarize_insights(stock_data, news_summary))"
      ],
      "metadata": {
        "colab": {
          "base_uri": "https://localhost:8080/"
        },
        "id": "BQVdgCE76CpF",
        "outputId": "77460fd9-53f5-4d66-b095-07c9fc2c0581"
      },
      "execution_count": null,
      "outputs": [
        {
          "output_type": "stream",
          "name": "stdout",
          "text": [
            "- Lockheed Martin (LMT) stock price closed at $546.75 on November 5, 2024\n",
            "- The 20-day moving average for LMT was $578.76, while the 50-day moving average was $578.46\n",
            "- Recent news articles have highlighted positive sentiments towards Lockheed Martin's efforts in wildfire mitigation, missile defense technology, and defense collaborations\n",
            "- Lockheed Martin has been recognized for its contributions to wildfire mitigation, missile defense technology, and national security applications\n",
            "- Positive market sentiments towards American defense stocks, such as Lockheed Martin, indicate potential growth opportunities in the defense industry due to geopolitical factors\n",
            "- Lockheed Martin's successful integration tests of defense systems showcase advancements in military technology, positioning them as a key player in the defense sector\n"
          ]
        }
      ]
    }
  ],
  "metadata": {
    "colab": {
      "toc_visible": true,
      "provenance": [],
      "include_colab_link": true
    },
    "kernelspec": {
      "display_name": "Python 3",
      "name": "python3"
    }
  },
  "nbformat": 4,
  "nbformat_minor": 0
}