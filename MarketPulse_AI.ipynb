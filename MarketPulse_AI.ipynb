{
  "cells": [
    {
      "cell_type": "markdown",
      "metadata": {
        "id": "view-in-github",
        "colab_type": "text"
      },
      "source": [
        "<a href=\"https://colab.research.google.com/github/mtuntang/Market-Pulse-AI/blob/main/MarketPulse_AI.ipynb\" target=\"_parent\"><img src=\"https://colab.research.google.com/assets/colab-badge.svg\" alt=\"Open In Colab\"/></a>"
      ]
    },
    {
      "cell_type": "markdown",
      "source": [
        "# Home\n",
        "<div class=\"markdown-google-sans\">\n",
        "  <h1>MarketPulse AI</h1>\n",
        "</div>\n",
        "\n",
        "<div class=\"markdown-google-sans\">\n",
        "  <h2>Explore MarketPulse AI</h2>\n",
        "\n",
        "---\n",
        "\n",
        "  <p>A Notebook application that combines stock price data and recent news analysis for selected companies. It pulls real-time financial data from Tiingo and relevant stock-specific news from Finnhub, then uses an LLM (OpenAI API) to provide concise summaries and sentiment analysis.\n",
        "  </p>\n",
        "</div>\n"
      ],
      "metadata": {
        "id": "_7k7bQN5T5vG"
      }
    },
    {
      "cell_type": "markdown",
      "source": [
        "# Step 1: Notebook Setup and Imports\n",
        "\n",
        "\n",
        "\n",
        "\n",
        "\n"
      ],
      "metadata": {
        "id": "tMgqkcm_UEZw"
      }
    },
    {
      "cell_type": "code",
      "source": [
        "# Install required libraries if not already installed\n",
        "!pip install openai\n",
        "!pip install python-dotenv\n",
        "\n",
        "\n",
        "# Import libraries\n",
        "import requests\n",
        "import pandas as pd\n",
        "import matplotlib.pyplot as plt\n",
        "from datetime import datetime, timedelta\n",
        "import os\n"
      ],
      "metadata": {
        "id": "X--UwPeOXcZx",
        "outputId": "61507836-09b7-43a3-d98a-b878d6816133",
        "colab": {
          "base_uri": "https://localhost:8080/"
        }
      },
      "execution_count": null,
      "outputs": [
        {
          "output_type": "stream",
          "name": "stdout",
          "text": [
            "Requirement already satisfied: openai in /usr/local/lib/python3.10/dist-packages (1.52.2)\n",
            "Requirement already satisfied: anyio<5,>=3.5.0 in /usr/local/lib/python3.10/dist-packages (from openai) (3.7.1)\n",
            "Requirement already satisfied: distro<2,>=1.7.0 in /usr/local/lib/python3.10/dist-packages (from openai) (1.9.0)\n",
            "Requirement already satisfied: httpx<1,>=0.23.0 in /usr/local/lib/python3.10/dist-packages (from openai) (0.27.2)\n",
            "Requirement already satisfied: jiter<1,>=0.4.0 in /usr/local/lib/python3.10/dist-packages (from openai) (0.6.1)\n",
            "Requirement already satisfied: pydantic<3,>=1.9.0 in /usr/local/lib/python3.10/dist-packages (from openai) (2.9.2)\n",
            "Requirement already satisfied: sniffio in /usr/local/lib/python3.10/dist-packages (from openai) (1.3.1)\n",
            "Requirement already satisfied: tqdm>4 in /usr/local/lib/python3.10/dist-packages (from openai) (4.66.6)\n",
            "Requirement already satisfied: typing-extensions<5,>=4.11 in /usr/local/lib/python3.10/dist-packages (from openai) (4.12.2)\n",
            "Requirement already satisfied: idna>=2.8 in /usr/local/lib/python3.10/dist-packages (from anyio<5,>=3.5.0->openai) (3.10)\n",
            "Requirement already satisfied: exceptiongroup in /usr/local/lib/python3.10/dist-packages (from anyio<5,>=3.5.0->openai) (1.2.2)\n",
            "Requirement already satisfied: certifi in /usr/local/lib/python3.10/dist-packages (from httpx<1,>=0.23.0->openai) (2024.8.30)\n",
            "Requirement already satisfied: httpcore==1.* in /usr/local/lib/python3.10/dist-packages (from httpx<1,>=0.23.0->openai) (1.0.6)\n",
            "Requirement already satisfied: h11<0.15,>=0.13 in /usr/local/lib/python3.10/dist-packages (from httpcore==1.*->httpx<1,>=0.23.0->openai) (0.14.0)\n",
            "Requirement already satisfied: annotated-types>=0.6.0 in /usr/local/lib/python3.10/dist-packages (from pydantic<3,>=1.9.0->openai) (0.7.0)\n",
            "Requirement already satisfied: pydantic-core==2.23.4 in /usr/local/lib/python3.10/dist-packages (from pydantic<3,>=1.9.0->openai) (2.23.4)\n",
            "Requirement already satisfied: openai in /usr/local/lib/python3.10/dist-packages (1.52.2)\n",
            "Collecting openai\n",
            "  Using cached openai-1.54.1-py3-none-any.whl.metadata (24 kB)\n",
            "Requirement already satisfied: anyio<5,>=3.5.0 in /usr/local/lib/python3.10/dist-packages (from openai) (3.7.1)\n",
            "Requirement already satisfied: distro<2,>=1.7.0 in /usr/local/lib/python3.10/dist-packages (from openai) (1.9.0)\n",
            "Requirement already satisfied: httpx<1,>=0.23.0 in /usr/local/lib/python3.10/dist-packages (from openai) (0.27.2)\n",
            "Requirement already satisfied: jiter<1,>=0.4.0 in /usr/local/lib/python3.10/dist-packages (from openai) (0.6.1)\n",
            "Requirement already satisfied: pydantic<3,>=1.9.0 in /usr/local/lib/python3.10/dist-packages (from openai) (2.9.2)\n",
            "Requirement already satisfied: sniffio in /usr/local/lib/python3.10/dist-packages (from openai) (1.3.1)\n",
            "Requirement already satisfied: tqdm>4 in /usr/local/lib/python3.10/dist-packages (from openai) (4.66.6)\n",
            "Requirement already satisfied: typing-extensions<5,>=4.11 in /usr/local/lib/python3.10/dist-packages (from openai) (4.12.2)\n",
            "Requirement already satisfied: idna>=2.8 in /usr/local/lib/python3.10/dist-packages (from anyio<5,>=3.5.0->openai) (3.10)\n",
            "Requirement already satisfied: exceptiongroup in /usr/local/lib/python3.10/dist-packages (from anyio<5,>=3.5.0->openai) (1.2.2)\n",
            "Requirement already satisfied: certifi in /usr/local/lib/python3.10/dist-packages (from httpx<1,>=0.23.0->openai) (2024.8.30)\n",
            "Requirement already satisfied: httpcore==1.* in /usr/local/lib/python3.10/dist-packages (from httpx<1,>=0.23.0->openai) (1.0.6)\n",
            "Requirement already satisfied: h11<0.15,>=0.13 in /usr/local/lib/python3.10/dist-packages (from httpcore==1.*->httpx<1,>=0.23.0->openai) (0.14.0)\n",
            "Requirement already satisfied: annotated-types>=0.6.0 in /usr/local/lib/python3.10/dist-packages (from pydantic<3,>=1.9.0->openai) (0.7.0)\n",
            "Requirement already satisfied: pydantic-core==2.23.4 in /usr/local/lib/python3.10/dist-packages (from pydantic<3,>=1.9.0->openai) (2.23.4)\n",
            "Using cached openai-1.54.1-py3-none-any.whl (389 kB)\n",
            "Installing collected packages: openai\n",
            "  Attempting uninstall: openai\n",
            "    Found existing installation: openai 1.52.2\n",
            "    Uninstalling openai-1.52.2:\n",
            "      Successfully uninstalled openai-1.52.2\n",
            "Successfully installed openai-1.54.1\n",
            "Collecting python-dotenv\n",
            "  Downloading python_dotenv-1.0.1-py3-none-any.whl.metadata (23 kB)\n",
            "Downloading python_dotenv-1.0.1-py3-none-any.whl (19 kB)\n",
            "Installing collected packages: python-dotenv\n",
            "Successfully installed python-dotenv-1.0.1\n"
          ]
        }
      ]
    },
    {
      "cell_type": "markdown",
      "source": [
        "# Step 2: Configuration\n"
      ],
      "metadata": {
        "id": "6ZjvoQVMUksM"
      }
    },
    {
      "cell_type": "code",
      "source": [
        "# Retrieve API keys from environment variables\n",
        "# API Keys - You can also replace these with your own keys\n",
        "TIINGO_API_KEY = 'placeholder_key'\n",
        "FINNHUB_API_KEY = 'placeholder_key'"
      ],
      "metadata": {
        "id": "WF__XhkfHIFU"
      },
      "execution_count": null,
      "outputs": []
    },
    {
      "cell_type": "markdown",
      "source": [
        "# Step 3: Data Fetching Functions"
      ],
      "metadata": {
        "id": "I7gA6LxMU4Br"
      }
    },
    {
      "cell_type": "markdown",
      "source": [
        "<div class=\"markdown-google-sans\">\n",
        "\n",
        "---\n",
        "\n",
        "  </n>\n",
        "  <p>In this step, we’ll create functions to:</p>\n",
        "  <ol>\n",
        "    <li>\n",
        "      Retrieve stock data from Alpha Vantage.\n",
        "    </li>\n",
        "    <li>\n",
        "      Fetch recent news articles from Finnhub related to a specific stock symbol.\n",
        "    </li>\n",
        "  </ol>\n",
        "  \n",
        "\n",
        "</div>\n",
        "\n",
        "\n",
        "\n",
        "\n"
      ],
      "metadata": {
        "id": "uNY0cKk-HH1H"
      }
    },
    {
      "cell_type": "markdown",
      "source": [
        "\n",
        "<strong>Function to Fetch Stock Data</strong>\n",
        "<p>This function will use Tiingo to get the latest stock data for a given symbol.</p>\n",
        "\n",
        "\n",
        "\n"
      ],
      "metadata": {
        "id": "Agb-CNTeNP5w"
      }
    },
    {
      "cell_type": "code",
      "source": [
        "# Function to fetch the past year of stock data from Tiingo\n",
        "def get_stock_data_tiingo(symbol):\n",
        "    try:\n",
        "        end_date = datetime.now().strftime(\"%Y-%m-%d\")\n",
        "        start_date = (datetime.now() - timedelta(days=365)).strftime(\"%Y-%m-%d\")\n",
        "        url = f\"https://api.tiingo.com/tiingo/daily/{symbol}/prices?startDate={start_date}&endDate={end_date}&token={TIINGO_API_KEY}\"\n",
        "\n",
        "        response = requests.get(url)\n",
        "        data = response.json()\n",
        "\n",
        "        if response.status_code == 200 and data:\n",
        "            # Convert JSON response to DataFrame\n",
        "            df = pd.DataFrame(data)\n",
        "            df['date'] = pd.to_datetime(df['date'])\n",
        "            df.set_index('date', inplace=True)\n",
        "            print(\"Data fetched!\")\n",
        "            return df\n",
        "        else:\n",
        "            print(f\"Error fetching stock data for {symbol}: {data.get('message', 'Unknown error')}\")\n",
        "            return None\n",
        "    except Exception as e:\n",
        "        print(f\"Error fetching stock data for {symbol}: {data.get('message', 'Unknown error')}\")\n",
        "        return None\n",
        "\n",
        "stock_symbol = input(\"Enter the stock ticker symbol (e.g., AAPL for Apple): \").upper()\n",
        "\n",
        "# Fetch stock data from Tiingo\n",
        "stock_data = get_stock_data_tiingo(stock_symbol)"
      ],
      "metadata": {
        "id": "UZdq77qbOF6Y",
        "outputId": "e2853355-92ec-4e35-f542-653a5ba89bca",
        "colab": {
          "base_uri": "https://localhost:8080/"
        }
      },
      "execution_count": null,
      "outputs": [
        {
          "output_type": "stream",
          "name": "stdout",
          "text": [
            "Enter the stock ticker symbol (e.g., AAPL for Apple): LMT\n",
            "Data fetched!\n"
          ]
        }
      ]
    },
    {
      "cell_type": "markdown",
      "source": [
        "<p>Plotting the chart:</p>"
      ],
      "metadata": {
        "id": "QZRarST2SUD3"
      }
    },
    {
      "cell_type": "code",
      "source": [
        "# Function to plot stock data\n",
        "def plot_stock_data(df, symbol):\n",
        "    plt.figure(figsize=(10, 5))\n",
        "    plt.plot(df.index, df['close'], marker='o', linestyle='-')\n",
        "    plt.title(f'{symbol} Stock Price (Past Year)')\n",
        "    plt.xlabel('Date')\n",
        "    plt.ylabel('Closing Price (USD)')\n",
        "    plt.grid(True)\n",
        "    plt.show()\n",
        "\n",
        "if stock_data is not None:\n",
        "    print(stock_data)\n",
        "    plot_stock_data(stock_data, stock_symbol)"
      ],
      "metadata": {
        "id": "5JBq4lrKSpUU",
        "outputId": "0d3fcbd9-ba57-4282-8fe5-acf787801260",
        "colab": {
          "base_uri": "https://localhost:8080/",
          "height": 1000
        }
      },
      "execution_count": null,
      "outputs": [
        {
          "output_type": "stream",
          "name": "stdout",
          "text": [
            "                            close      high       low    open   volume  \\\n",
            "date                                                                     \n",
            "2023-11-06 00:00:00+00:00  451.16  454.8400  450.6400  454.84  1440995   \n",
            "2023-11-07 00:00:00+00:00  450.15  453.1600  449.6900  453.16  1220143   \n",
            "2023-11-08 00:00:00+00:00  444.66  451.7713  444.0300  450.15  1386408   \n",
            "2023-11-09 00:00:00+00:00  442.46  445.6100  439.6754  445.41  1775623   \n",
            "2023-11-10 00:00:00+00:00  444.87  445.8300  440.9700  444.01  1525619   \n",
            "...                           ...       ...       ...     ...      ...   \n",
            "2024-10-29 00:00:00+00:00  546.80  553.4000  546.4100  552.80  1041740   \n",
            "2024-10-30 00:00:00+00:00  545.94  551.2600  543.2000  546.90  1005163   \n",
            "2024-10-31 00:00:00+00:00  546.05  551.6799  542.6750  547.04  1245472   \n",
            "2024-11-01 00:00:00+00:00  545.35  549.3300  544.6200  548.00   792756   \n",
            "2024-11-04 00:00:00+00:00  543.10  548.8100  540.4100  545.70   827556   \n",
            "\n",
            "                             adjClose     adjHigh      adjLow     adjOpen  \\\n",
            "date                                                                        \n",
            "2023-11-06 00:00:00+00:00  439.321314  442.904749  438.814959  442.904749   \n",
            "2023-11-07 00:00:00+00:00  438.337817  441.268833  437.889888  441.268833   \n",
            "2023-11-08 00:00:00+00:00  432.991878  439.916573  432.378409  438.337817   \n",
            "2023-11-09 00:00:00+00:00  430.849607  433.916949  428.138077  433.722197   \n",
            "2023-11-10 00:00:00+00:00  433.196367  434.131176  429.398705  432.358934   \n",
            "...                               ...         ...         ...         ...   \n",
            "2024-10-29 00:00:00+00:00  546.800000  553.400000  546.410000  552.800000   \n",
            "2024-10-30 00:00:00+00:00  545.940000  551.260000  543.200000  546.900000   \n",
            "2024-10-31 00:00:00+00:00  546.050000  551.679900  542.675000  547.040000   \n",
            "2024-11-01 00:00:00+00:00  545.350000  549.330000  544.620000  548.000000   \n",
            "2024-11-04 00:00:00+00:00  543.100000  548.810000  540.410000  545.700000   \n",
            "\n",
            "                           adjVolume  divCash  splitFactor  \n",
            "date                                                        \n",
            "2023-11-06 00:00:00+00:00    1440995      0.0          1.0  \n",
            "2023-11-07 00:00:00+00:00    1220143      0.0          1.0  \n",
            "2023-11-08 00:00:00+00:00    1386408      0.0          1.0  \n",
            "2023-11-09 00:00:00+00:00    1775623      0.0          1.0  \n",
            "2023-11-10 00:00:00+00:00    1525619      0.0          1.0  \n",
            "...                              ...      ...          ...  \n",
            "2024-10-29 00:00:00+00:00    1041740      0.0          1.0  \n",
            "2024-10-30 00:00:00+00:00    1005163      0.0          1.0  \n",
            "2024-10-31 00:00:00+00:00    1245472      0.0          1.0  \n",
            "2024-11-01 00:00:00+00:00     792756      0.0          1.0  \n",
            "2024-11-04 00:00:00+00:00     827556      0.0          1.0  \n",
            "\n",
            "[251 rows x 12 columns]\n"
          ]
        },
        {
          "output_type": "display_data",
          "data": {
            "text/plain": [
              "<Figure size 1000x500 with 1 Axes>"
            ],
            "image/png": "[encoded data removed]"
          },
          "metadata": {}
        }
      ]
    },
    {
      "cell_type": "markdown",
      "source": [
        "<strong>Function to Fetch Stock News</strong>\n",
        "<p>This function will use Finnhub to get the latest stock data for a given symbol.</p>\n"
      ],
      "metadata": {
        "id": "GiAkD00TpvLQ"
      }
    },
    {
      "cell_type": "code",
      "source": [
        "# Function to fetch recent news articles from Finnhub\n",
        "def get_news_articles_finnhub(symbol):\n",
        "    try:\n",
        "        end_date = datetime.now().strftime(\"%Y-%m-%d\")\n",
        "        start_date = (datetime.now() - timedelta(days=30)).strftime(\"%Y-%m-%d\")\n",
        "        url = f'https://finnhub.io/api/v1/company-news?symbol={symbol}&from={start_date}&to={end_date}&token={FINNHUB_API_KEY}'\n",
        "        print(url)\n",
        "        response = requests.get(url)\n",
        "        articles = response.json()\n",
        "        return articles\n",
        "    except Exception as e:\n",
        "        print(f\"Exception occurred: {e}\")\n",
        "        return []\n",
        "\n",
        "print(stock_symbol)\n",
        "news_articles = get_news_articles_finnhub(stock_symbol)\n",
        "if news_articles:\n",
        "    print(f\"\\nRecent News Articles for {stock_symbol}:\\n\")\n",
        "    for article in news_articles[:5]:  # Show only the first 5 articles\n",
        "        print(f\"Title: {article['headline']}\")\n",
        "        print(f\"Date: {article['datetime']}\")\n",
        "        print(f\"Source: {article['source']}\")\n",
        "        print(f\"URL: {article['url']}\\n\")\n",
        "else:\n",
        "    print(\"No recent news articles found.\")"
      ],
      "metadata": {
        "colab": {
          "base_uri": "https://localhost:8080/"
        },
        "id": "om9jzuSnp6MU",
        "outputId": "862286e7-40a8-4577-9822-5c1d11ab669e"
      },
      "execution_count": null,
      "outputs": [
        {
          "output_type": "stream",
          "name": "stdout",
          "text": [
            "LMT\n",
            "https://finnhub.io/api/v1/company-news?symbol=LMT&from=2024-10-06&to=2024-11-05&token=cskg0t1r01qn1f3vkhj0cskg0t1r01qn1f3vkhjg\n",
            "\n",
            "Recent News Articles for LMT:\n",
            "\n",
            "Title: Ariel Investments Focus Fund Q3 2024 Commentary\n",
            "Date: 1730802600\n",
            "Source: SeekingAlpha\n",
            "URL: https://finnhub.io/api/news?id=3131d81373ebbea046a0db4591dfd37499d383502c94c49bf48aa12492e18915\n",
            "\n",
            "Title: Drones In Defense: Reshaping Modern Warfare And Its Economics\n",
            "Date: 1730801400\n",
            "Source: SeekingAlpha\n",
            "URL: https://finnhub.io/api/news?id=2c44f94a95013ee2f3b486cedb98462d59a85e7262a440593bc7dbc185c59462\n",
            "\n",
            "Title: Marshall Named First Lockheed Martin-Approved Center of Excellence for C-130 Hercules Center Wing Box Replacements\n",
            "Date: 1730795925\n",
            "Source: Finnhub\n",
            "URL: https://finnhub.io/api/news?id=e9cd5ea381ec02b0d1c1897bf040fb8b4fb48ebb55878c3e1f6efab82dae74ee\n",
            "\n",
            "Title: Lockheed Martin: Patriot missile proves its worth\n",
            "Date: 1730787382\n",
            "Source: Finnhub\n",
            "URL: https://finnhub.io/api/news?id=bd74f378512b34fad9bb67dc350b8021ef499cad11ec0fc068a93e970a2ac7e4\n",
            "\n",
            "Title: Lockheed Martin Corporation (LMT): Among the Best American Defense Stocks To Buy According to Hedge Funds\n",
            "Date: 1730768613\n",
            "Source: Yahoo\n",
            "URL: https://finnhub.io/api/news?id=5dd26efdc4a4eba7d5fdbf10ad6fe425b49cb87c8fa4a1501db82118f8d5f336\n",
            "\n"
          ]
        }
      ]
    },
    {
      "cell_type": "markdown",
      "source": [
        "# Step 4: LLM Integration with OpenAI API"
      ],
      "metadata": {
        "id": "HjvhtIYTuYan"
      }
    },
    {
      "cell_type": "markdown",
      "source": [
        "<div class=\"markdown-google-sans\">\n",
        "\n",
        "---\n",
        "\n",
        "  </n>\n",
        "  <p>In this step, we will:</p>\n",
        "  <ol>\n",
        "    <li>\n",
        "      Setup the OpenAI API client.\n",
        "    </li>\n",
        "    <li>\n",
        "      Fetch the summary of our stock price and news data to get sentiment analysis from ChatGPT\n",
        "    </li>\n",
        "  </ol>\n",
        "\n",
        "</div>\n",
        "\n",
        "\n",
        "\n",
        "\n"
      ],
      "metadata": {
        "id": "wrVw8MpEukBU"
      }
    },
    {
      "cell_type": "code",
      "source": [
        "from openai import OpenAI\n",
        "\n",
        "client = OpenAI(\n",
        "  api_key='placeholder_key',\n",
        ")\n",
        "\n",
        "\n",
        "\n",
        "# Function to perform sentiment analysis and summarization using OpenAI API\n",
        "def analyze_sentiment_with_openai(article_text):\n",
        "    try:\n",
        "        chat_completion = client.chat.completions.create(\n",
        "            messages=[\n",
        "                {\n",
        "                    \"role\": \"user\",\n",
        "                    \"content\": f\"Analyze the sentiment of this article and summarize it: {article_text}\",\n",
        "                }\n",
        "            ],\n",
        "            model=\"gpt-3.5-turbo\",\n",
        "        )\n",
        "        sentiment_summary = chat_completion.choices[0].message.content.replace(\". \", \".\\n\")\n",
        "        return sentiment_summary\n",
        "    except Exception as e:\n",
        "        print(\"Error with OpenAI API:\", e)\n",
        "        return None\n",
        "\n",
        "sentiment_summary_list = []\n",
        "\n",
        "for article in news_articles[:5]:  # Limit to first 5 articles for brevity\n",
        "    # Convert timestamp to readable date format\n",
        "    readable_date = datetime.utcfromtimestamp(article['datetime']).strftime('%Y-%m-%d %H:%M:%S')\n",
        "\n",
        "    # Perform sentiment analysis and summarize with OpenAI\n",
        "    sentiment_summary = analyze_sentiment_with_openai(article['summary'])\n",
        "    formatted_summary = sentiment_summary.replace('. ', '.\\n') if sentiment_summary else 'No summary available'\n",
        "\n",
        "\n",
        "    # Define the parts separately\n",
        "    title = f\"Title: {article['headline']}\\n\"\n",
        "    date = f\"Date: {readable_date}\\n\"\n",
        "    source = f\"Source: {article['source']}\\n\"\n",
        "    url = f\"URL: {article['url']}\\n\"\n",
        "    sentiment_summary_text = f\"Sentiment Summary:\\n {formatted_summary}\\n\"\n",
        "    separator = '-' * 120 + '\\n'\n",
        "\n",
        "    # Combine all parts into one string\n",
        "    article_summary = title + date + source + url + sentiment_summary_text + separator\n",
        "\n",
        "    # Append the formatted string to the list\n",
        "    sentiment_summary_list.append(article_summary)\n",
        "\n",
        "# Combine all article summaries into a single string\n",
        "news_summary = \"\\n\".join(sentiment_summary_list)\n",
        "print(news_summary)\n",
        "\n"
      ],
      "metadata": {
        "colab": {
          "base_uri": "https://localhost:8080/"
        },
        "id": "axOqyIlDu8TE",
        "outputId": "bb653e3f-3c2e-43ba-ff2d-9a417b7a2ff7"
      },
      "execution_count": null,
      "outputs": [
        {
          "output_type": "stream",
          "name": "stdout",
          "text": [
            "Title: Ariel Investments Focus Fund Q3 2024 Commentary\n",
            "Date: 2024-11-05 10:30:00\n",
            "Source: SeekingAlpha\n",
            "URL: https://finnhub.io/api/news?id=3131d81373ebbea046a0db4591dfd37499d383502c94c49bf48aa12492e18915\n",
            "Sentiment Summary:\n",
            " The sentiment of this article is optimistic and positive.\n",
            "It highlights the gains in major U.S.\n",
            "indices in the third quarter and mentions the resilience of the economy.\n",
            "Forecasters are also mentioned to be anticipating a soft landing, indicating confidence in the future performance of the economy.\n",
            "Overall, the tone of the article is bullish on the current state and future prospects of the U.S.\n",
            "economy.\n",
            "------------------------------------------------------------------------------------------------------------------------\n",
            "\n",
            "Title: Drones In Defense: Reshaping Modern Warfare And Its Economics\n",
            "Date: 2024-11-05 10:10:00\n",
            "Source: SeekingAlpha\n",
            "URL: https://finnhub.io/api/news?id=2c44f94a95013ee2f3b486cedb98462d59a85e7262a440593bc7dbc185c59462\n",
            "Sentiment Summary:\n",
            " The sentiment of this article is neutral-to-negative, as it highlights how drones have changed the dynamics of conflicts by allowing smaller, less financially resourced forces to compete with larger militaries.\n",
            "The article emphasizes the potential threat that drones pose to global security and the need for increased regulation and oversight.\n",
            "In summary, drones have disrupted traditional power dynamics in conflicts and raised concerns about their impact on warfare.\n",
            "------------------------------------------------------------------------------------------------------------------------\n",
            "\n",
            "Title: Marshall Named First Lockheed Martin-Approved Center of Excellence for C-130 Hercules Center Wing Box Replacements\n",
            "Date: 2024-11-05 08:38:45\n",
            "Source: Finnhub\n",
            "URL: https://finnhub.io/api/news?id=e9cd5ea381ec02b0d1c1897bf040fb8b4fb48ebb55878c3e1f6efab82dae74ee\n",
            "Sentiment Summary:\n",
            " The sentiment of this article is positive and celebratory.\n",
            "It emphasizes the recognition of Cambridge - Marshall as the world's first authorized Center of Excellence for center wing box replacements on the C-130 Hercules tactical airlifter by Lockheed Martin.\n",
            "The article highlights the achievement and praises the leadership at Cambridge - Marshall for this accomplishment.\n",
            "------------------------------------------------------------------------------------------------------------------------\n",
            "\n",
            "Title: Lockheed Martin: Patriot missile proves its worth\n",
            "Date: 2024-11-05 06:16:22\n",
            "Source: Finnhub\n",
            "URL: https://finnhub.io/api/news?id=bd74f378512b34fad9bb67dc350b8021ef499cad11ec0fc068a93e970a2ac7e4\n",
            "Sentiment Summary:\n",
            " The sentiment of this article is positive as it reports a successful integration and interception of a advanced tactical ballistic missile.\n",
            "Lockheed Martin and Raytheon's collaboration on the Patriot missile system and LTAMDS radar is seen as a validation of software upgrades and technology advancements.\n",
            "The article highlights the effectiveness of this integration in enhancing missile defense capabilities.\n",
            "------------------------------------------------------------------------------------------------------------------------\n",
            "\n",
            "Title: Lockheed Martin Corporation (LMT): Among the Best American Defense Stocks To Buy According to Hedge Funds\n",
            "Date: 2024-11-05 01:03:33\n",
            "Source: Yahoo\n",
            "URL: https://finnhub.io/api/news?id=5dd26efdc4a4eba7d5fdbf10ad6fe425b49cb87c8fa4a1501db82118f8d5f336\n",
            "Sentiment Summary:\n",
            " The sentiment of this article is positive towards Lockheed Martin Corporation and the American defense industry as a whole.\n",
            "The article suggests that geopolitical factors will likely lead to increased defense spending, making defense stocks a good investment opportunity.\n",
            "The focus is on analyzing where Lockheed Martin stands in comparison to other American defense stocks.\n",
            "------------------------------------------------------------------------------------------------------------------------\n",
            "\n"
          ]
        }
      ]
    },
    {
      "cell_type": "markdown",
      "source": [
        "<p>Now combining stock price data with the sentiment analysis:</p>"
      ],
      "metadata": {
        "id": "rmTchqtU54yt"
      }
    },
    {
      "cell_type": "code",
      "source": [
        "def summarize_insights(stock_data, news_summary):\n",
        "    try:\n",
        "        chat_completion = client.chat.completions.create(\n",
        "            messages=[\n",
        "                {\n",
        "                    \"role\": \"user\",\n",
        "                    \"content\": f\"Give a short summary in bullet points for {stock_symbol}, given {stock_data} and {news_summary}\",\n",
        "                }\n",
        "            ],\n",
        "            model=\"gpt-3.5-turbo\",\n",
        "        )\n",
        "        summary_insight = chat_completion.choices[0].message.content.replace(\". \", \".\\n\")\n",
        "        return summary_insight\n",
        "    except Exception as e:\n",
        "        print(\"Error with OpenAI API:\", e)\n",
        "        return None\n",
        "\n",
        "print(summarize_insights(stock_data, news_summary))"
      ],
      "metadata": {
        "colab": {
          "base_uri": "https://localhost:8080/"
        },
        "id": "BQVdgCE76CpF",
        "outputId": "19b6e91c-6c54-45f0-ddf8-a17607b1cc9a"
      },
      "execution_count": null,
      "outputs": [
        {
          "output_type": "stream",
          "name": "stdout",
          "text": [
            "- LMT stock prices fluctuated between $443.10 and $553.40 over the past year\n",
            "- The latest stock price was $543.10 with a high of $548.81 and a low of $540.41\n",
            "- The volume of trading ranged from 792,756 to 1,771,562 shares\n",
            "- The sentiment towards Lockheed Martin in recent articles has been positive and celebratory\n",
            "- Lockheed Martin's achievements in defense technology and recognition in the industry are highlighted\n",
            "- The company is mentioned as a strong contender in the American defense stock market, with positive outlooks for future growth and investment opportunities.\n"
          ]
        }
      ]
    }
  ],
  "metadata": {
    "colab": {
      "toc_visible": true,
      "provenance": [],
      "include_colab_link": true
    },
    "kernelspec": {
      "display_name": "Python 3",
      "name": "python3"
    }
  },
  "nbformat": 4,
  "nbformat_minor": 0
}